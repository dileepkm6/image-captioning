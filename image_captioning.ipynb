{
 "cells": [
  {
   "cell_type": "code",
   "execution_count": 2,
   "metadata": {
    "colab": {
     "base_uri": "https://localhost:8080/",
     "height": 34
    },
    "colab_type": "code",
    "executionInfo": {
     "elapsed": 3486,
     "status": "ok",
     "timestamp": 1556181949545,
     "user": {
      "displayName": "DILEEP MAURYA",
      "photoUrl": "",
      "userId": "05455579589554015869"
     },
     "user_tz": -330
    },
    "id": "gmncAGDsZtgj",
    "outputId": "ba52f689-5ac4-45e3-8eda-27709ef2d332"
   },
   "outputs": [
    {
     "name": "stdout",
     "output_type": "stream",
     "text": [
      "Drive already mounted at /content/drive; to attempt to forcibly remount, call drive.mount(\"/content/drive\", force_remount=True).\n"
     ]
    }
   ],
   "source": [
    "from numpy import array\n",
    "from os import listdir\n",
    "#from google.colab import drive\n",
    "#drive.mount('/content/drive')\n",
    "from keras.preprocessing.image import load_img\n",
    "from keras.models import load_model\n",
    "from keras.preprocessing.image import img_to_array\n",
    "from keras.applications.vgg16 import preprocess_input\n",
    "from keras.models import Model\n",
    "from keras.applications.vgg16 import VGG16\n",
    "from keras.applications.densenet import DenseNet121\n",
    "from keras.callbacks import ModelCheckpoint\n",
    "import os\n",
    "import string\n",
    "import numpy as np\n",
    "import pickle\n",
    "import scipy\n",
    "from os import listdir\n",
    "from pickle import dump\n",
    "from pickle import load\n",
    "from numpy import argmax\n",
    "from keras.preprocessing.sequence import pad_sequences\n",
    "from keras.applications.vgg16 import VGG16\n",
    "from keras.preprocessing.image import load_img\n",
    "from keras.preprocessing.image import img_to_array\n",
    "from keras.applications.vgg16 import preprocess_input\n",
    "from keras.models import Model\n",
    "from keras.models import load_model\n",
    "\n",
    "from keras.datasets import cifar100\n",
    "from keras.utils import to_categorical\n",
    "from keras.utils import plot_model,to_categorical\n",
    "from matplotlib.pyplot import imshow\n",
    "import matplotlib.pyplot as plt\n",
    "from keras.optimizers import Adam, RMSprop\n",
    "\n",
    "from keras.preprocessing.image import load_img\n",
    "from keras.preprocessing.image import img_to_array\n",
    "from keras.preprocessing.text import Tokenizer\n",
    "from keras.applications.vgg16 import preprocess_input\n",
    "from keras.preprocessing.sequence import pad_sequences\n",
    "\n",
    "from keras.models import Model\n",
    "from keras.layers import Input, merge, ZeroPadding2D,Embedding,LSTM,add\n",
    "from keras.layers.core import Dense, Dropout, Activation\n",
    "from keras.layers.convolutional import Convolution2D\n",
    "from keras.layers.pooling import AveragePooling2D, GlobalAveragePooling2D, MaxPooling2D\n",
    "from keras.layers.normalization import BatchNormalization\n",
    "from nltk.translate.bleu_score import corpus_bleu\n",
    "from keras.engine import Layer, InputSpec\n",
    "try:\n",
    "    from keras import initializations\n",
    "except ImportError:\n",
    "    from keras import initializers as initializations\n",
    "import keras.backend as K"
   ]
  },
  {
   "cell_type": "code",
   "execution_count": 0,
   "metadata": {
    "colab": {},
    "colab_type": "code",
    "collapsed": true,
    "id": "S2ZrIjnTZtg0"
   },
   "outputs": [],
   "source": [
    "class Scale(Layer):\n",
    "    '''Custom Layer for DenseNet used for BatchNormalization.\n",
    "    \n",
    "    Learns a set of weights and biases used for scaling the input data.\n",
    "    the output consists simply in an element-wise multiplication of the input\n",
    "    and a sum of a set of constants:\n",
    "\n",
    "        out = in * gamma + beta,\n",
    "\n",
    "    where 'gamma' and 'beta' are the weights and biases larned.\n",
    "\n",
    "    # Arguments\n",
    "        axis: integer, axis along which to normalize in mode 0. For instance,\n",
    "            if your input tensor has shape (samples, channels, rows, cols),\n",
    "            set axis to 1 to normalize per feature map (channels axis).\n",
    "        momentum: momentum in the computation of the\n",
    "            exponential average of the mean and standard deviation\n",
    "            of the data, for feature-wise normalization.\n",
    "        weights: Initialization weights.\n",
    "            List of 2 Numpy arrays, with shapes:\n",
    "            `[(input_shape,), (input_shape,)]`\n",
    "        beta_init: name of initialization function for shift parameter\n",
    "            (see [initializations](../initializations.md)), or alternatively,\n",
    "            Theano/TensorFlow function to use for weights initialization.\n",
    "            This parameter is only relevant if you don't pass a `weights` argument.\n",
    "        gamma_init: name of initialization function for scale parameter (see\n",
    "            [initializations](../initializations.md)), or alternatively,\n",
    "            Theano/TensorFlow function to use for weights initialization.\n",
    "            This parameter is only relevant if you don't pass a `weights` argument.\n",
    "    '''\n",
    "    def __init__(self, weights=None, axis=-1, momentum = 0.9, beta_init='zero', gamma_init='one', **kwargs):\n",
    "        self.momentum = momentum\n",
    "        self.axis = axis\n",
    "        self.beta_init = initializations.get(beta_init)\n",
    "        self.gamma_init = initializations.get(gamma_init)\n",
    "        self.initial_weights = weights\n",
    "        super(Scale, self).__init__(**kwargs)\n",
    "\n",
    "    def build(self, input_shape):\n",
    "        self.input_spec = [InputSpec(shape=input_shape)]\n",
    "        shape = (int(input_shape[self.axis]),)\n",
    "\n",
    "        # Tensorflow >= 1.0.0 compatibility\n",
    "        self.gamma = K.variable(self.gamma_init(shape), name='{}_gamma'.format(self.name))\n",
    "        self.beta = K.variable(self.beta_init(shape), name='{}_beta'.format(self.name))\n",
    "        #self.gamma = self.gamma_init(shape, name='{}_gamma'.format(self.name))\n",
    "        #self.beta = self.beta_init(shape, name='{}_beta'.format(self.name))\n",
    "        self.trainable_weights = [self.gamma, self.beta]\n",
    "\n",
    "        if self.initial_weights is not None:\n",
    "            self.set_weights(self.initial_weights)\n",
    "            del self.initial_weights\n",
    "\n",
    "    def call(self, x, mask=None):\n",
    "        input_shape = self.input_spec[0].shape\n",
    "        broadcast_shape = [1] * len(input_shape)\n",
    "        broadcast_shape[self.axis] = input_shape[self.axis]\n",
    "\n",
    "        out = K.reshape(self.gamma, broadcast_shape) * x + K.reshape(self.beta, broadcast_shape)\n",
    "        return out\n",
    "\n",
    "    def get_config(self):\n",
    "        config = {\"momentum\": self.momentum, \"axis\": self.axis}\n",
    "        base_config = super(Scale, self).get_config()\n",
    "        return dict(list(base_config.items()) + list(config.items()))"
   ]
  },
  {
   "cell_type": "code",
   "execution_count": 0,
   "metadata": {
    "colab": {},
    "colab_type": "code",
    "collapsed": true,
    "id": "jnxfC4xYZtg9"
   },
   "outputs": [],
   "source": [
    "def DenseNet(nb_dense_block=4, growth_rate=32, nb_filter=64, reduction=0.0, dropout_rate=0.2, weight_decay=1e-4, classes=100, weights_path=None):\n",
    "    '''Instantiate the DenseNet 121 architecture,\n",
    "        # Arguments\n",
    "            nb_dense_block: number of dense blocks to add to end\n",
    "            growth_rate: number of filters to add per dense block\n",
    "            nb_filter: initial number of filters\n",
    "            reduction: reduction factor of transition blocks.\n",
    "            dropout_rate: dropout rate\n",
    "            weight_decay: weight decay factor\n",
    "            classes: optional number of classes to classify images\n",
    "            weights_path: path to pre-trained weights\n",
    "        # Returns\n",
    "            A Keras model instance.\n",
    "    '''\n",
    "    eps = 1.1e-5\n",
    "\n",
    "    # compute compression factor\n",
    "    compression = 1.0 - reduction\n",
    "\n",
    "    # Handle Dimension Ordering for different backends\n",
    "    global concat_axis\n",
    "    if K.image_dim_ordering() == 'tf':\n",
    "      concat_axis = 3\n",
    "      img_input = Input(shape=(32, 32, 3), name='data')\n",
    "    else:\n",
    "      concat_axis = 1\n",
    "      img_input = Input(shape=(3, 32, 32), name='data')\n",
    "\n",
    "    # From architecture for ImageNet (Table 1 in the paper)\n",
    "    nb_filter = 64\n",
    "    nb_layers = [6,12,24,16] # For DenseNet-121\n",
    "\n",
    "    # Initial convolution\n",
    "    x = ZeroPadding2D((3, 3), name='conv1_zeropadding')(img_input)\n",
    "    x = Convolution2D(nb_filter, 7, 7, subsample=(2, 2), name='conv1', bias=False)(x)\n",
    "    x = BatchNormalization(epsilon=eps, axis=concat_axis, name='conv1_bn')(x)\n",
    "    x = Scale(axis=concat_axis, name='conv1_scale')(x)\n",
    "    x = Activation('relu', name='relu1')(x)\n",
    "    x = ZeroPadding2D((1, 1), name='pool1_zeropadding')(x)\n",
    "    x = MaxPooling2D((3, 3), strides=(2, 2), name='pool1')(x)\n",
    "\n",
    "    # Add dense blocks\n",
    "    for block_idx in range(nb_dense_block - 1):\n",
    "        stage = block_idx+2\n",
    "        x, nb_filter = dense_block(x, stage, nb_layers[block_idx], nb_filter, growth_rate, dropout_rate=dropout_rate, weight_decay=weight_decay)\n",
    "\n",
    "        # Add transition_block\n",
    "        x = transition_block(x, stage, nb_filter, compression=compression, dropout_rate=dropout_rate, weight_decay=weight_decay)\n",
    "        nb_filter = int(nb_filter * compression)\n",
    "\n",
    "    final_stage = stage + 1\n",
    "    x, nb_filter = dense_block(x, final_stage, nb_layers[-1], nb_filter, growth_rate, dropout_rate=dropout_rate, weight_decay=weight_decay)\n",
    "\n",
    "    x = BatchNormalization(epsilon=eps, axis=concat_axis, name='conv'+str(final_stage)+'_blk_bn')(x)\n",
    "    x = Scale(axis=concat_axis, name='conv'+str(final_stage)+'_blk_scale')(x)\n",
    "    x = Activation('relu', name='relu'+str(final_stage)+'_blk')(x)\n",
    "    x = GlobalAveragePooling2D(name='pool'+str(final_stage))(x)\n",
    "\n",
    "    x = Dense(classes, name='fc6')(x)\n",
    "    x = Activation('softmax', name='prob')(x)\n",
    "\n",
    "    model = Model(img_input, x, name='densenet')\n",
    "\n",
    "    if weights_path is not None:\n",
    "      model.load_weights(weights_path)\n",
    "\n",
    "    return model"
   ]
  },
  {
   "cell_type": "code",
   "execution_count": 0,
   "metadata": {
    "colab": {},
    "colab_type": "code",
    "collapsed": true,
    "id": "k0yZMyHtZthF"
   },
   "outputs": [],
   "source": [
    "def conv_block(x, stage, branch, nb_filter, dropout_rate=None, weight_decay=1e-4):\n",
    "    '''Apply BatchNorm, Relu, bottleneck 1x1 Conv2D, 3x3 Conv2D, and option dropout\n",
    "        # Arguments\n",
    "            x: input tensor \n",
    "            stage: index for dense block\n",
    "            branch: layer index within each dense block\n",
    "            nb_filter: number of filters\n",
    "            dropout_rate: dropout rate\n",
    "            weight_decay: weight decay factor\n",
    "    '''\n",
    "    eps = 1.1e-5\n",
    "    conv_name_base = 'conv' + str(stage) + '_' + str(branch)\n",
    "    relu_name_base = 'relu' + str(stage) + '_' + str(branch)\n",
    "\n",
    "    # 1x1 Convolution (Bottleneck layer)\n",
    "    inter_channel = nb_filter * 4  \n",
    "    x = BatchNormalization(epsilon=eps, axis=concat_axis, name=conv_name_base+'_x1_bn')(x)\n",
    "    x = Scale(axis=concat_axis, name=conv_name_base+'_x1_scale')(x)\n",
    "    x = Activation('relu', name=relu_name_base+'_x1')(x)\n",
    "    x = Convolution2D(inter_channel, 1, 1, name=conv_name_base+'_x1', bias=False)(x)\n",
    "\n",
    "    if dropout_rate:\n",
    "        x = Dropout(dropout_rate)(x)\n",
    "\n",
    "    # 3x3 Convolution\n",
    "    x = BatchNormalization(epsilon=eps, axis=concat_axis, name=conv_name_base+'_x2_bn')(x)\n",
    "    x = Scale(axis=concat_axis, name=conv_name_base+'_x2_scale')(x)\n",
    "    x = Activation('relu', name=relu_name_base+'_x2')(x)\n",
    "    x = ZeroPadding2D((1, 1), name=conv_name_base+'_x2_zeropadding')(x)\n",
    "    x = Convolution2D(nb_filter, 3, 3, name=conv_name_base+'_x2', bias=False)(x)\n",
    "\n",
    "    if dropout_rate:\n",
    "        x = Dropout(dropout_rate)(x)\n",
    "\n",
    "    return x"
   ]
  },
  {
   "cell_type": "code",
   "execution_count": 0,
   "metadata": {
    "colab": {},
    "colab_type": "code",
    "collapsed": true,
    "id": "7dRwrkBIZthN"
   },
   "outputs": [],
   "source": [
    "def transition_block(x, stage, nb_filter, compression=1.0, dropout_rate=None, weight_decay=1E-4):\n",
    "    ''' Apply BatchNorm, 1x1 Convolution, averagePooling, optional compression, dropout \n",
    "        # Arguments\n",
    "            x: input tensor\n",
    "            stage: index for dense block\n",
    "            nb_filter: number of filters\n",
    "            compression: calculated as 1 - reduction. Reduces the number of feature maps in the transition block.\n",
    "            dropout_rate: dropout rate\n",
    "            weight_decay: weight decay factor\n",
    "    '''\n",
    "\n",
    "    eps = 1.1e-5\n",
    "    conv_name_base = 'conv' + str(stage) + '_blk'\n",
    "    relu_name_base = 'relu' + str(stage) + '_blk'\n",
    "    pool_name_base = 'pool' + str(stage) \n",
    "\n",
    "    x = BatchNormalization(epsilon=eps, axis=concat_axis, name=conv_name_base+'_bn')(x)\n",
    "    x = Scale(axis=concat_axis, name=conv_name_base+'_scale')(x)\n",
    "    x = Activation('relu', name=relu_name_base)(x)\n",
    "    x = Convolution2D(int(nb_filter * compression), 1, 1, name=conv_name_base, bias=False)(x)\n",
    "\n",
    "    if dropout_rate:\n",
    "        x = Dropout(dropout_rate)(x)\n",
    "\n",
    "    x = AveragePooling2D((2, 2), strides=(2, 2), name=pool_name_base)(x)\n",
    "\n",
    "    return x"
   ]
  },
  {
   "cell_type": "code",
   "execution_count": 0,
   "metadata": {
    "colab": {},
    "colab_type": "code",
    "collapsed": true,
    "id": "xMRea_YeZthV"
   },
   "outputs": [],
   "source": [
    "def dense_block(x, stage, nb_layers, nb_filter, growth_rate, dropout_rate=None, weight_decay=1e-4, grow_nb_filters=True):\n",
    "    ''' Build a dense_block where the output of each conv_block is fed to subsequent ones\n",
    "        # Arguments\n",
    "            x: input tensor\n",
    "            stage: index for dense block\n",
    "            nb_layers: the number of layers of conv_block to append to the model.\n",
    "            nb_filter: number of filters\n",
    "            growth_rate: growth rate\n",
    "            dropout_rate: dropout rate\n",
    "            weight_decay: weight decay factor\n",
    "            grow_nb_filters: flag to decide to allow number of filters to grow\n",
    "    '''\n",
    "\n",
    "    eps = 1.1e-5\n",
    "    concat_feat = x\n",
    "\n",
    "    for i in range(nb_layers):\n",
    "        branch = i+1\n",
    "        x = conv_block(concat_feat, stage, branch, growth_rate, dropout_rate, weight_decay)\n",
    "        concat_feat = merge([concat_feat, x], mode='concat', concat_axis=concat_axis, name='concat_'+str(stage)+'_'+str(branch))\n",
    "\n",
    "        if grow_nb_filters:\n",
    "            nb_filter += growth_rate\n",
    "\n",
    "    return concat_feat, nb_filter"
   ]
  },
  {
   "cell_type": "code",
   "execution_count": 0,
   "metadata": {
    "colab": {},
    "colab_type": "code",
    "collapsed": true,
    "id": "N2yCFgJJZthd"
   },
   "outputs": [],
   "source": [
    "#creating a dictionary for whole dataset.\n",
    "#feature[image_id] = fetures_vectore\n",
    "def extract_features(directory):\n",
    "    model=DenseNet121()\n",
    "    model.layers.pop()\n",
    "    model=Model(inputs=model.inputs,outputs=model.layers[-1].output)\n",
    "    features =dict()\n",
    "    for name in listdir(directory):\n",
    "        filename=directory+'/'+name\n",
    "        image=load_img(filename,target_size=(224,224))\n",
    "        image=img_to_array(image)\n",
    "        print (image.shape[2])\n",
    "        image=image.reshape((1,image.shape[0],image.shape[1],image.shape[2]))\n",
    "        image=preprocess_input(image)\n",
    "        feature=model.predict(image,verbose=0)\n",
    "        image_id=name.split('.')[0]\n",
    "        features[image_id]=feature\n",
    "    return features\n",
    "#features=extract_feature(\"Flicker8k_Dataset\")\n",
    "#dump(features,open(\"features.pkl\",\"wb\"))"
   ]
  },
  {
   "cell_type": "code",
   "execution_count": 0,
   "metadata": {
    "colab": {
     "base_uri": "https://localhost:8080/",
     "height": 54
    },
    "colab_type": "code",
    "id": "iSUW6YNnZthm",
    "outputId": "9e951856-1b70-4612-bdcc-41846552078c"
   },
   "outputs": [
    {
     "data": {
      "text/plain": [
       "'text=load_text(\"Flicker8k_Text/Flickr8k.token.txt\")\\n#print (text)\\ndesc=load_desc(text)\\n#print (text)\\nclean_descriptions(desc)\\nvocab=to_vocabulary(desc)\\n#print (desc[\"1030985833_b0902ea560\"][0])\\n#save_descriptions(desc,\"description.txt\")\\n'"
      ]
     },
     "execution_count": 3,
     "metadata": {
      "tags": []
     },
     "output_type": "execute_result"
    }
   ],
   "source": [
    "#cleaning the descrioption and creating a dictionary for description\n",
    "def load_text(filename):\n",
    "    file=open(filename,errors=\"ignore\")\n",
    "    text=file.read()\n",
    "    file.close()\n",
    "    return (text)\n",
    "def load_desc(doc):\n",
    "    descriptions=dict()\n",
    "    for line in doc.split('\\n'):\n",
    "        token=line.split()\n",
    "        if len(line)<2:\n",
    "            continue\n",
    "        img_id,img_desc=token[0],token[1:]\n",
    "        img_id=img_id.split('.')[0]\n",
    "        print (img_id)\n",
    "        img_desc=' '.join(img_desc)\n",
    "        if not img_id in descriptions:\n",
    "            descriptions[img_id]=list()\n",
    "        descriptions[img_id].append(img_desc)\n",
    "    return descriptions\n",
    "        \n",
    "def clean_descriptions(descriptions):\n",
    "    # prepare translation table for removing punctuation\n",
    "    table = str.maketrans('', '', string.punctuation)\n",
    "    for key, desc_list in descriptions.items():\n",
    "        for i in range(len(desc_list)):\n",
    "            desc = desc_list[i]\n",
    "            # tokenize\n",
    "            desc = desc.split()\n",
    "            # convert to lower case\n",
    "            desc = [word.lower() for word in desc]\n",
    "            # remove punctuation from each token\n",
    "            desc = [w.translate(table) for w in desc]\n",
    "            # remove hanging 's' and 'a'\n",
    "            desc = [word for word in desc if len(word)>1]\n",
    "            # remove tokens with numbers in them\n",
    "            desc = [word for word in desc if word.isalpha()]\n",
    "            # store as string\n",
    "            desc_list[i] =  ' '.join(desc)\n",
    "def to_vocabulary(descriptions):\n",
    "    # build a list of all description strings\n",
    "    all_desc = set()\n",
    "    for key in descriptions.keys():\n",
    "        [all_desc.update(d.split()) for d in descriptions[key]]\n",
    "    return all_desc\n",
    " \n",
    "# save descriptions to file, one per line\n",
    "def save_descriptions(descriptions, filename):\n",
    "    lines = list()\n",
    "    for key, desc_list in descriptions.items():\n",
    "        for desc in desc_list:\n",
    "            lines.append(key + ' ' + desc)\n",
    "    data = '\\n'.join(lines)\n",
    "    file = open(filename, 'w')\n",
    "    file.write(data)\n",
    "    file.close()\n",
    " \n",
    "\n",
    "\n",
    "'''text=load_text(\"Flicker8k_Text/Flickr8k.token.txt\")\n",
    "desc=load_desc(text)\n",
    "clean_descriptions(desc)\n",
    "vocab=to_vocabulary(desc)\n",
    "print (desc[\"1030985833_b0902ea560\"][0])\n",
    "save_descriptions(desc,\"description.txt\")'''\n",
    "\n",
    "    "
   ]
  },
  {
   "cell_type": "code",
   "execution_count": 0,
   "metadata": {
    "colab": {
     "base_uri": "https://localhost:8080/",
     "height": 34
    },
    "colab_type": "code",
    "executionInfo": {
     "elapsed": 1165,
     "status": "ok",
     "timestamp": 1556112144924,
     "user": {
      "displayName": "DILEEP MAURYA",
      "photoUrl": "",
      "userId": "05455579589554015869"
     },
     "user_tz": -330
    },
    "id": "5VlstT98ZtiI",
    "outputId": "eec61cee-b452-4a4b-ebf4-3c3f0c5d1d59"
   },
   "outputs": [
    {
     "name": "stdout",
     "output_type": "stream",
     "text": [
      "hello\n"
     ]
    }
   ],
   "source": [
    "#dividing the training and testing data \n",
    "def load_identifier(doc):\n",
    "    identifier=list()\n",
    "    for line in doc.split('\\n'):\n",
    "        img_id=line.split('.')[0]\n",
    "        identifier.append(img_id)\n",
    "    return set(identifier)\n",
    "def load_train_desc(filename,dataset):\n",
    "    desc=dict()\n",
    "    text = load_text(filename)\n",
    "    for line in text.split('\\n'):\n",
    "        token=line.split()\n",
    "        img_id,img_desc=token[0],token[1:]\n",
    "        if img_id in dataset:\n",
    "            if img_id not in desc.keys():\n",
    "                desc[img_id]=list()\n",
    "            img_desc = 'startseq ' + ' '.join(img_desc) + ' endseq'\n",
    "            desc[img_id].append(img_desc)\n",
    "    return desc\n",
    "def load_train_feature(filename,dataset):\n",
    "    all_feat=pickle.load(open(filename,\"rb\"))\n",
    "    features=dict()\n",
    "    for k in dataset:\n",
    "        if k not in all_feat:\n",
    "            continue\n",
    "        features[k]=all_feat[k]\n",
    "    #features={k: all_feat[k] for k in dataset}\n",
    "    return features\n",
    "\n"
   ]
  },
  {
   "cell_type": "code",
   "execution_count": 0,
   "metadata": {
    "colab": {
     "base_uri": "https://localhost:8080/",
     "height": 54
    },
    "colab_type": "code",
    "executionInfo": {
     "elapsed": 909,
     "status": "ok",
     "timestamp": 1556112146634,
     "user": {
      "displayName": "DILEEP MAURYA",
      "photoUrl": "",
      "userId": "05455579589554015869"
     },
     "user_tz": -330
    },
    "id": "9IHOOSW-4KAl",
    "outputId": "9f2ab093-92a2-43d3-cce1-fbacd6126a2b"
   },
   "outputs": [
    {
     "data": {
      "text/plain": [
       "'#training data\\ndoc=load_text(\"/content/drive/My Drive/major_project/Flicker8k_Text/Flickr_8k.trainImages.txt\")\\ntrain=load_identifier(doc)\\ntrain_desc=load_train_desc(\"/content/drive/My Drive/major_project/description.txt\",train)\\ntrain_features=load_train_feature(\"/content/drive/My Drive/major_project/features.pkl\",train)\\nnp.save(\"/content/drive/My Drive/major_project/training_data/train_desc.npy\",train_desc)\\nnp.save(\"/content/drive/My Drive/major_project/training_data/train_features.npy\",train_features)\\nprint (len(train_desc))\\nprint (len(train_features))\\n'"
      ]
     },
     "execution_count": 5,
     "metadata": {
      "tags": []
     },
     "output_type": "execute_result"
    }
   ],
   "source": [
    "#saving the training fetures and training description\n",
    "'''#training data\n",
    "doc=load_text(\"/Flicker8k_Text/Flickr_8k.trainImages.txt\")\n",
    "train=load_identifier(doc)\n",
    "train_desc=load_train_desc(\"/description.txt\",train)\n",
    "train_features=load_train_feature(\"/features.pkl\",train)\n",
    "np.save(\"/training_data/train_desc.npy\",train_desc)\n",
    "np.save(\"/training_data/train_features.npy\",train_features)\n",
    "print (len(train_desc))\n",
    "print (len(train_features))\n",
    "'''"
   ]
  },
  {
   "cell_type": "code",
   "execution_count": 0,
   "metadata": {
    "colab": {
     "base_uri": "https://localhost:8080/",
     "height": 54
    },
    "colab_type": "code",
    "executionInfo": {
     "elapsed": 1406,
     "status": "ok",
     "timestamp": 1556112147884,
     "user": {
      "displayName": "DILEEP MAURYA",
      "photoUrl": "",
      "userId": "05455579589554015869"
     },
     "user_tz": -330
    },
    "id": "EchYTSEnAqnq",
    "outputId": "d8792808-0cdb-46c2-b8a6-35bb6e699944"
   },
   "outputs": [
    {
     "data": {
      "text/plain": [
       "'#testing data\\ndoc=load_text(\"/content/drive/My Drive/major_project/Flicker8k_Text/Flickr_8k.testImages.txt\")\\ntest=load_identifier(doc)\\ntest_desc=load_train_desc(\"/content/drive/My Drive/major_project/description.txt\",test)\\ntest_features=load_train_feature(\"/content/drive/My Drive/major_project/features.pkl\",test)\\nnp.save(\"/content/drive/My Drive/major_project/testing_data/test_desc.npy\",test_desc)\\nnp.save(\"/content/drive/My Drive/major_project/testing_data/test_features.npy\",test_features)\\nprint (len(test_desc))\\nprint (len(test_features))'"
      ]
     },
     "execution_count": 6,
     "metadata": {
      "tags": []
     },
     "output_type": "execute_result"
    }
   ],
   "source": [
    "#saving the testing feature and testing description\n",
    "'''\n",
    "doc=load_text(\"/content/drive/My Drive/major_project/Flicker8k_Text/Flickr_8k.testImages.txt\")\n",
    "test=load_identifier(doc)\n",
    "test_desc=load_train_desc(\"/content/drive/My Drive/major_project/description.txt\",test)\n",
    "test_features=load_train_feature(\"/content/drive/My Drive/major_project/features.pkl\",test)\n",
    "np.save(\"/content/drive/My Drive/major_project/testing_data/test_desc.npy\",test_desc)\n",
    "np.save(\"/content/drive/My Drive/major_project/testing_data/test_features.npy\",test_features)\n",
    "print (len(test_desc))\n",
    "print (len(test_features))'''"
   ]
  },
  {
   "cell_type": "code",
   "execution_count": 0,
   "metadata": {
    "colab": {
     "base_uri": "https://localhost:8080/",
     "height": 54
    },
    "colab_type": "code",
    "executionInfo": {
     "elapsed": 1462,
     "status": "ok",
     "timestamp": 1556112150098,
     "user": {
      "displayName": "DILEEP MAURYA",
      "photoUrl": "",
      "userId": "05455579589554015869"
     },
     "user_tz": -330
    },
    "id": "o1DiCvkiZtiS",
    "outputId": "99afe7d8-6f78-4b46-86e6-cf81e17965da"
   },
   "outputs": [
    {
     "data": {
      "text/plain": [
       "\"def to_lines(desc):\\n    all_desc=list()\\n    for key in desc.keys():\\n        [all_desc.append(d) for d in desc[key]]\\n    return all_desc\\ndef create_tokenizer(desc):\\n    lines=to_lines(desc)\\n    tokenizer =Tokenizer()\\n    tokenizer.fit_on_texts(lines)\\n    print (lines)\\n    return tokenizer\\ntokenizer=create_tokenizer(train_desc)\\n#tokenizer = create_tokenizer(train_descriptions)\\n# save the tokenizer\\ndump(tokenizer, open('/content/drive/My Drive/major_project/tokenizer.pkl', 'wb'))\\nvocab_size=len(tokenizer.word_index)+1\\nprint (vocab_size)\""
      ]
     },
     "execution_count": 7,
     "metadata": {
      "tags": []
     },
     "output_type": "execute_result"
    }
   ],
   "source": [
    "'''def to_lines(desc):\n",
    "    all_desc=list()\n",
    "    for key in desc.keys():\n",
    "        [all_desc.append(d) for d in desc[key]]\n",
    "    return all_desc\n",
    "def create_tokenizer(desc):\n",
    "    lines=to_lines(desc)\n",
    "    tokenizer =Tokenizer()\n",
    "    tokenizer.fit_on_texts(lines)\n",
    "    print (lines)\n",
    "    return tokenizer\n",
    "tokenizer=create_tokenizer(train_desc)\n",
    "#tokenizer = create_tokenizer(train_descriptions)\n",
    "# save the tokenizer\n",
    "dump(tokenizer, open('/content/drive/My Drive/major_project/tokenizer.pkl', 'wb'))\n",
    "vocab_size=len(tokenizer.word_index)+1\n",
    "print (vocab_size)'''"
   ]
  },
  {
   "cell_type": "code",
   "execution_count": 0,
   "metadata": {
    "colab": {},
    "colab_type": "code",
    "collapsed": true,
    "id": "0AWc-HezZtig"
   },
   "outputs": [],
   "source": [
    "#model of image captioning (densenet+LSTM)\n",
    "def define_model(vocab_size,max_length):\n",
    "    inputs1=Input(shape=(1024,))\n",
    "    fe1=Dropout(0.5)(inputs1)\n",
    "    fe2=Dense(256,activation='relu')(fe1)\n",
    "    inputs2 = Input(shape=(max_length,))\n",
    "    se1 = Embedding(vocab_size, 200, mask_zero=True)(inputs2)\n",
    "    se2 = Dropout(0.5)(se1)\n",
    "    se3 = LSTM(256)(se2)\n",
    "    # decoder model\n",
    "    decoder1 = add([fe2, se3])\n",
    "    decoder2 = Dense(256, activation='relu')(decoder1)\n",
    "    outputs = Dense(vocab_size, activation='softmax')(decoder2)\n",
    "    # tie it together [image, seq] [word]\n",
    "    model = Model(inputs=[inputs1, inputs2], outputs=outputs)\n",
    "    #model.compile(loss='categorical_crossentropy', optimizer='adam')\n",
    "    # summarize model\n",
    "    print(model.summary())\n",
    "    #plot_model(model, to_file='model.png', show_shapes=True)\n",
    "    return model\n",
    "    "
   ]
  },
  {
   "cell_type": "code",
   "execution_count": 11,
   "metadata": {
    "colab": {
     "base_uri": "https://localhost:8080/",
     "height": 54
    },
    "colab_type": "code",
    "executionInfo": {
     "elapsed": 2298,
     "status": "ok",
     "timestamp": 1556182376491,
     "user": {
      "displayName": "DILEEP MAURYA",
      "photoUrl": "",
      "userId": "05455579589554015869"
     },
     "user_tz": -330
    },
    "id": "YqwDtp9mZti_",
    "outputId": "8cc74cd2-c76d-40c0-ed2d-5ac4f62ac5a2"
   },
   "outputs": [
    {
     "data": {
      "text/plain": [
       "'X1train,X2train,ytrain=create_sequences(tokenizer,max_length,train_desc,train_features)\\n#model.fit([X1train, X2train], ytrain, epochs=20, verbose=2)\\nX1train = np.asarray(X1train)\\nX2train = np.asarray(X2train)\\nytrain = np.asarray(ytrain)\\n'"
      ]
     },
     "execution_count": 11,
     "metadata": {
      "tags": []
     },
     "output_type": "execute_result"
    }
   ],
   "source": [
    "#loading trainig data\n",
    "train_desc=np.load(\"/content/drive/My Drive/15IT208_15IT101_15IT107_15IT246_major_project/training_data/train_desc.npy\",allow_pickle=True).item()\n",
    "train_features=np.load(\"/content/drive/My Drive/15IT208_15IT101_15IT107_15IT246_major_project/training_data/train_features.npy\",allow_pickle=True).item()\n",
    "'''X1train,X2train,ytrain=create_sequences(tokenizer,max_length,train_desc,train_features)\n",
    "#model.fit([X1train, X2train], ytrain, epochs=20, verbose=2)\n",
    "X1train = np.asarray(X1train)\n",
    "X2train = np.asarray(X2train)\n",
    "ytrain = np.asarray(ytrain)\n",
    "'''"
   ]
  },
  {
   "cell_type": "code",
   "execution_count": 0,
   "metadata": {
    "colab": {},
    "colab_type": "code",
    "collapsed": true,
    "id": "IZcV53iUxZy8"
   },
   "outputs": [],
   "source": [
    "#extracting the feature vector for a particular image\n",
    "def extract_feature(filename):\n",
    "\t# load the model\n",
    "\tmodel = DenseNet121()\n",
    "\t# re-structure the model\n",
    "\tmodel.layers.pop()\n",
    "\tmodel = Model(inputs=model.inputs, outputs=model.layers[-1].output)\n",
    "\t# load the photo\n",
    "\timage = load_img(filename, target_size=(224, 224))\n",
    "\t# convert the image pixels to a numpy array\n",
    "\timage = img_to_array(image)\n",
    "\t# reshape data for the model\n",
    "\timage = image.reshape((1, image.shape[0], image.shape[1], image.shape[2]))\n",
    "\t# prepare the image for the VGG model\n",
    "\timage = preprocess_input(image)\n",
    "\t# get features\n",
    "\tfeature = model.predict(image, verbose=0)\n",
    "\treturn feature\n",
    "\n",
    "# load the tokenizer\n",
    "#tokenizer = load(open('/content/drive/My Drive/major_project/tokenizer.pkl', 'rb'))\n",
    "# pre-define the max sequence length (from training)\n",
    "max_length = 34\n",
    "# load the model\n",
    "#model = load_model('/content/drive/My Drive/major_project/model/model_19.h5')"
   ]
  },
  {
   "cell_type": "code",
   "execution_count": 13,
   "metadata": {
    "colab": {
     "base_uri": "https://localhost:8080/",
     "height": 51
    },
    "colab_type": "code",
    "executionInfo": {
     "elapsed": 1462,
     "status": "ok",
     "timestamp": 1556182443516,
     "user": {
      "displayName": "DILEEP MAURYA",
      "photoUrl": "",
      "userId": "05455579589554015869"
     },
     "user_tz": -330
    },
    "id": "lBQiJNP1Rs7s",
    "outputId": "496de8f2-7245-4108-ab45-e7007ec18dbf"
   },
   "outputs": [
    {
     "name": "stdout",
     "output_type": "stream",
     "text": [
      "30000\n",
      "6000\n"
     ]
    }
   ],
   "source": [
    "#Create a list of all the training captions\n",
    "all_train_captions = []\n",
    "for key,desc in train_desc.items():\n",
    "  [all_train_captions.append(cap) for cap in desc]\n",
    "print (len(all_train_captions))\n",
    "print (len(train_desc))"
   ]
  },
  {
   "cell_type": "code",
   "execution_count": 17,
   "metadata": {
    "colab": {
     "base_uri": "https://localhost:8080/",
     "height": 34
    },
    "colab_type": "code",
    "executionInfo": {
     "elapsed": 2326,
     "status": "ok",
     "timestamp": 1556182463694,
     "user": {
      "displayName": "DILEEP MAURYA",
      "photoUrl": "",
      "userId": "05455579589554015869"
     },
     "user_tz": -330
    },
    "id": "VwYclU11qpZe",
    "outputId": "30f9727b-4e77-4edf-dfbb-913f2544e735"
   },
   "outputs": [
    {
     "name": "stdout",
     "output_type": "stream",
     "text": [
      "preprocessed word 7578 -> 7578\n"
     ]
    }
   ],
   "source": [
    "#consider only word which occurs at least 10 times in the corpus\n",
    "word_count_threshold = 1\n",
    "word_counts = {}\n",
    "nsents = 0\n",
    "for sent in all_train_captions:\n",
    "  nsents +=1\n",
    "  for w in sent.split():\n",
    "    word_counts[w] = word_counts.get(w,0)+1\n",
    "vocab = [w for w in word_counts if word_counts[w] >= word_count_threshold]\n",
    "print ('preprocessed word %d -> %d' % (len(word_counts),len(vocab)))"
   ]
  },
  {
   "cell_type": "code",
   "execution_count": 0,
   "metadata": {
    "colab": {},
    "colab_type": "code",
    "collapsed": true,
    "id": "UXO8scfGsu5j"
   },
   "outputs": [],
   "source": [
    "ixtoword = {}\n",
    "wordtoix = {}\n",
    "\n",
    "ix = 1\n",
    "for w in vocab:\n",
    "    wordtoix[w] = ix\n",
    "    ixtoword[ix] = w\n",
    "    ix += 1"
   ]
  },
  {
   "cell_type": "code",
   "execution_count": 19,
   "metadata": {
    "colab": {
     "base_uri": "https://localhost:8080/",
     "height": 34
    },
    "colab_type": "code",
    "executionInfo": {
     "elapsed": 1918,
     "status": "ok",
     "timestamp": 1556182467279,
     "user": {
      "displayName": "DILEEP MAURYA",
      "photoUrl": "",
      "userId": "05455579589554015869"
     },
     "user_tz": -330
    },
    "id": "uzUoFh1BtCOR",
    "outputId": "330ce06f-6597-4b9d-c354-998600e31617"
   },
   "outputs": [
    {
     "data": {
      "text/plain": [
       "7579"
      ]
     },
     "execution_count": 19,
     "metadata": {
      "tags": []
     },
     "output_type": "execute_result"
    }
   ],
   "source": [
    "vocab_size = len(ixtoword) + 1 # one for appended 0's\n",
    "vocab_size"
   ]
  },
  {
   "cell_type": "code",
   "execution_count": 20,
   "metadata": {
    "colab": {
     "base_uri": "https://localhost:8080/",
     "height": 34
    },
    "colab_type": "code",
    "executionInfo": {
     "elapsed": 606,
     "status": "ok",
     "timestamp": 1556182467856,
     "user": {
      "displayName": "DILEEP MAURYA",
      "photoUrl": "",
      "userId": "05455579589554015869"
     },
     "user_tz": -330
    },
    "id": "8BJe89cZtNVG",
    "outputId": "da192958-34f2-4dd2-fab1-8d76dcf1204c"
   },
   "outputs": [
    {
     "name": "stdout",
     "output_type": "stream",
     "text": [
      "Description Length: 34\n"
     ]
    }
   ],
   "source": [
    "# convert a dictionary of clean descriptions to a list of descriptions\n",
    "def to_lines(descriptions):\n",
    "\tall_desc = list()\n",
    "\tfor key in descriptions.keys():\n",
    "\t\t[all_desc.append(d) for d in descriptions[key]]\n",
    "\treturn all_desc\n",
    "\n",
    "# calculate the length of the description with the most words\n",
    "def max_length(descriptions):\n",
    "\tlines = to_lines(descriptions)\n",
    "\treturn max(len(d.split()) for d in lines)\n",
    "\n",
    "# determine the maximum sequence length\n",
    "max_length = max_length(train_desc)\n",
    "print('Description Length: %d' % max_length)"
   ]
  },
  {
   "cell_type": "code",
   "execution_count": 0,
   "metadata": {
    "colab": {},
    "colab_type": "code",
    "collapsed": true,
    "id": "2N2qkhNCtV4Y"
   },
   "outputs": [],
   "source": [
    "# data generator, intended to be used in a call to model.fit_generator()\n",
    "def data_generator(descriptions, photos, wordtoix, max_length, num_photos_per_batch):\n",
    "    X1, X2, y = list(), list(), list()\n",
    "    n=0\n",
    "    # loop for ever over images\n",
    "    while 1:\n",
    "        for key, desc_list in descriptions.items():\n",
    "            n+=1\n",
    "            # retrieve the photo feature\n",
    "            photo = photos[key][0]\n",
    "            for desc in desc_list:\n",
    "                # encode the sequence\n",
    "                seq = [wordtoix[word] for word in desc.split(' ') if word in wordtoix]\n",
    "                # split one sequence into multiple X, y pairs\n",
    "                for i in range(1, len(seq)):\n",
    "                    # split into input and output pair\n",
    "                    in_seq, out_seq = seq[:i], seq[i]\n",
    "                    # pad input sequence\n",
    "                    in_seq = pad_sequences([in_seq], maxlen=max_length)[0]\n",
    "                    # encode output sequence\n",
    "                    out_seq = to_categorical([out_seq], num_classes=vocab_size)[0]\n",
    "                    # store\n",
    "                    X1.append(photo)\n",
    "                    X2.append(in_seq)\n",
    "                    y.append(out_seq)\n",
    "            # yield the batch data\n",
    "            if n==num_photos_per_batch:\n",
    "                yield [[array(X1), array(X2)], array(y)]\n",
    "                X1, X2, y = list(), list(), list()\n",
    "                n=0"
   ]
  },
  {
   "cell_type": "code",
   "execution_count": 23,
   "metadata": {
    "colab": {
     "base_uri": "https://localhost:8080/",
     "height": 34
    },
    "colab_type": "code",
    "executionInfo": {
     "elapsed": 29605,
     "status": "ok",
     "timestamp": 1556182538561,
     "user": {
      "displayName": "DILEEP MAURYA",
      "photoUrl": "",
      "userId": "05455579589554015869"
     },
     "user_tz": -330
    },
    "id": "yx2hpK1GtfeV",
    "outputId": "d3148c1a-95ac-46ab-891a-c9cd24f2dad1"
   },
   "outputs": [
    {
     "name": "stdout",
     "output_type": "stream",
     "text": [
      "Found 400000 word vectors.\n"
     ]
    }
   ],
   "source": [
    "# Load Glove vectors\n",
    "glove_dir = '/content/drive/My Drive/15IT208_15IT101_15IT107_15IT246_major_project'\n",
    "embeddings_index = {} # empty dictionary\n",
    "f = open(os.path.join(glove_dir, 'glove.6B.200d.txt'), encoding=\"utf-8\")\n",
    "\n",
    "for line in f:\n",
    "    values = line.split()\n",
    "    word = values[0]\n",
    "    coefs = np.asarray(values[1:], dtype='float32')\n",
    "    embeddings_index[word] = coefs\n",
    "f.close()\n",
    "print('Found %s word vectors.' % len(embeddings_index))"
   ]
  },
  {
   "cell_type": "code",
   "execution_count": 0,
   "metadata": {
    "colab": {},
    "colab_type": "code",
    "collapsed": true,
    "id": "Pl9Gp3ijtlz9"
   },
   "outputs": [],
   "source": [
    "embedding_dim = 200\n",
    "\n",
    "# Get 200-dim dense vector for each of the 10000 words in out vocabulary\n",
    "embedding_matrix = np.zeros((vocab_size, embedding_dim))\n",
    "\n",
    "for word, i in wordtoix.items():\n",
    "    #if i < max_words:\n",
    "    embedding_vector = embeddings_index.get(word)\n",
    "    if embedding_vector is not None:\n",
    "        # Words not found in the embedding index will be all zeros\n",
    "        embedding_matrix[i] = embedding_vector"
   ]
  },
  {
   "cell_type": "code",
   "execution_count": 25,
   "metadata": {
    "colab": {
     "base_uri": "https://localhost:8080/",
     "height": 34
    },
    "colab_type": "code",
    "executionInfo": {
     "elapsed": 2437,
     "status": "ok",
     "timestamp": 1556182549462,
     "user": {
      "displayName": "DILEEP MAURYA",
      "photoUrl": "",
      "userId": "05455579589554015869"
     },
     "user_tz": -330
    },
    "id": "atZ06Mai48BE",
    "outputId": "6fc6985c-e26b-4a0f-c545-c2ee43a4c2a1"
   },
   "outputs": [
    {
     "data": {
      "text/plain": [
       "(7579, 200)"
      ]
     },
     "execution_count": 25,
     "metadata": {
      "tags": []
     },
     "output_type": "execute_result"
    }
   ],
   "source": [
    "embedding_matrix.shape"
   ]
  },
  {
   "cell_type": "code",
   "execution_count": 26,
   "metadata": {
    "colab": {
     "base_uri": "https://localhost:8080/",
     "height": 612
    },
    "colab_type": "code",
    "executionInfo": {
     "elapsed": 3725,
     "status": "ok",
     "timestamp": 1556182554424,
     "user": {
      "displayName": "DILEEP MAURYA",
      "photoUrl": "",
      "userId": "05455579589554015869"
     },
     "user_tz": -330
    },
    "id": "R8PVntNECuMJ",
    "outputId": "789c1a94-2f8c-4e11-e220-edf371573be7"
   },
   "outputs": [
    {
     "name": "stdout",
     "output_type": "stream",
     "text": [
      "WARNING:tensorflow:From /usr/local/lib/python3.6/dist-packages/tensorflow/python/ops/control_flow_ops.py:423: colocate_with (from tensorflow.python.framework.ops) is deprecated and will be removed in a future version.\n",
      "Instructions for updating:\n",
      "Colocations handled automatically by placer.\n",
      "WARNING:tensorflow:From /usr/local/lib/python3.6/dist-packages/keras/backend/tensorflow_backend.py:3445: calling dropout (from tensorflow.python.ops.nn_ops) with keep_prob is deprecated and will be removed in a future version.\n",
      "Instructions for updating:\n",
      "Please use `rate` instead of `keep_prob`. Rate should be set to `rate = 1 - keep_prob`.\n",
      "__________________________________________________________________________________________________\n",
      "Layer (type)                    Output Shape         Param #     Connected to                     \n",
      "==================================================================================================\n",
      "input_2 (InputLayer)            (None, 34)           0                                            \n",
      "__________________________________________________________________________________________________\n",
      "input_1 (InputLayer)            (None, 1024)         0                                            \n",
      "__________________________________________________________________________________________________\n",
      "embedding_1 (Embedding)         (None, 34, 200)      1515800     input_2[0][0]                    \n",
      "__________________________________________________________________________________________________\n",
      "dropout_1 (Dropout)             (None, 1024)         0           input_1[0][0]                    \n",
      "__________________________________________________________________________________________________\n",
      "dropout_2 (Dropout)             (None, 34, 200)      0           embedding_1[0][0]                \n",
      "__________________________________________________________________________________________________\n",
      "dense_1 (Dense)                 (None, 256)          262400      dropout_1[0][0]                  \n",
      "__________________________________________________________________________________________________\n",
      "lstm_1 (LSTM)                   (None, 256)          467968      dropout_2[0][0]                  \n",
      "__________________________________________________________________________________________________\n",
      "add_1 (Add)                     (None, 256)          0           dense_1[0][0]                    \n",
      "                                                                 lstm_1[0][0]                     \n",
      "__________________________________________________________________________________________________\n",
      "dense_2 (Dense)                 (None, 256)          65792       add_1[0][0]                      \n",
      "__________________________________________________________________________________________________\n",
      "dense_3 (Dense)                 (None, 7579)         1947803     dense_2[0][0]                    \n",
      "==================================================================================================\n",
      "Total params: 4,259,763\n",
      "Trainable params: 4,259,763\n",
      "Non-trainable params: 0\n",
      "__________________________________________________________________________________________________\n",
      "None\n"
     ]
    }
   ],
   "source": [
    "model=define_model(vocab_size,max_length)\n",
    "model.layers[2]\n",
    "model.layers[2].set_weights([embedding_matrix])\n",
    "model.layers[2].trainable = False\n",
    "model.compile(loss='categorical_crossentropy', optimizer=Adam(), metrics=['accuracy'])"
   ]
  },
  {
   "cell_type": "code",
   "execution_count": 0,
   "metadata": {
    "colab": {},
    "colab_type": "code",
    "collapsed": true,
    "id": "Mw9iyWySouOT"
   },
   "outputs": [],
   "source": [
    "'''model.fit_generator(data_generator(batch_size=128), samples_per_epoch=samples_per_epoch, nb_epoch=1, \n",
    "                          verbose=2)'''"
   ]
  },
  {
   "cell_type": "code",
   "execution_count": 0,
   "metadata": {
    "colab": {},
    "colab_type": "code",
    "collapsed": true,
    "id": "H_AdX4CW7lrQ"
   },
   "outputs": [],
   "source": [
    "'''epochs = 10\n",
    "number_pics_per_bath = 3\n",
    "steps = len(train_desc)//number_pics_per_bath'''"
   ]
  },
  {
   "cell_type": "code",
   "execution_count": 0,
   "metadata": {
    "colab": {
     "base_uri": "https://localhost:8080/",
     "height": 357
    },
    "colab_type": "code",
    "executionInfo": {
     "elapsed": 2272655,
     "status": "ok",
     "timestamp": 1554675464711,
     "user": {
      "displayName": "DILEEP MAURYA",
      "photoUrl": "",
      "userId": "05455579589554015869"
     },
     "user_tz": -330
    },
    "id": "7px2racJ8z7e",
    "outputId": "43e09e28-c3c6-45c1-d36e-d6d7e8542a86"
   },
   "outputs": [
    {
     "name": "stdout",
     "output_type": "stream",
     "text": [
      "Epoch 1/1\n",
      " - 230s - loss: 4.8336 - acc: 0.2050\n",
      "Epoch 1/1\n",
      " - 228s - loss: 4.0223 - acc: 0.2593\n",
      "Epoch 1/1\n",
      " - 228s - loss: 3.7403 - acc: 0.2770\n",
      "Epoch 1/1\n",
      " - 228s - loss: 3.5680 - acc: 0.2873\n",
      "Epoch 1/1\n",
      " - 226s - loss: 3.4451 - acc: 0.2937\n",
      "Epoch 1/1\n",
      " - 226s - loss: 3.3535 - acc: 0.2992\n",
      "Epoch 1/1\n",
      " - 226s - loss: 3.2761 - acc: 0.3042\n",
      "Epoch 1/1\n",
      " - 225s - loss: 3.2103 - acc: 0.3084\n",
      "Epoch 1/1\n",
      " - 226s - loss: 3.1606 - acc: 0.3124\n",
      "Epoch 1/1\n",
      " - 226s - loss: 3.1158 - acc: 0.3168\n"
     ]
    }
   ],
   "source": [
    "'''for i in range(epochs):\n",
    "    generator = data_generator(train_desc, train_features, wordtoix, max_length, number_pics_per_bath)\n",
    "    model.fit_generator(generator, epochs=1, steps_per_epoch=steps, verbose=2)\n",
    "    #model.save('/content/drive/My Drive/major_project/full_vocab/model_1/model_' + str(i) + '.h5')'''"
   ]
  },
  {
   "cell_type": "code",
   "execution_count": 0,
   "metadata": {
    "colab": {
     "base_uri": "https://localhost:8080/",
     "height": 357
    },
    "colab_type": "code",
    "executionInfo": {
     "elapsed": 2430131,
     "status": "ok",
     "timestamp": 1554678344222,
     "user": {
      "displayName": "DILEEP MAURYA",
      "photoUrl": "",
      "userId": "05455579589554015869"
     },
     "user_tz": -330
    },
    "id": "02EmSVkp9At_",
    "outputId": "6a1e21d1-1d7f-4242-b61b-bfe465350052"
   },
   "outputs": [
    {
     "name": "stdout",
     "output_type": "stream",
     "text": [
      "Epoch 1/1\n",
      "2000/2000 [==============================] - 242s 121ms/step - loss: 3.0817 - acc: 0.3196\n",
      "Epoch 1/1\n",
      "2000/2000 [==============================] - 242s 121ms/step - loss: 3.0452 - acc: 0.3233\n",
      "Epoch 1/1\n",
      "2000/2000 [==============================] - 243s 122ms/step - loss: 3.0174 - acc: 0.3255\n",
      "Epoch 1/1\n",
      "2000/2000 [==============================] - 243s 121ms/step - loss: 2.9932 - acc: 0.3279\n",
      "Epoch 1/1\n",
      "2000/2000 [==============================] - 243s 121ms/step - loss: 2.9699 - acc: 0.3295\n",
      "Epoch 1/1\n",
      "2000/2000 [==============================] - 243s 121ms/step - loss: 2.9497 - acc: 0.3324\n",
      "Epoch 1/1\n",
      "2000/2000 [==============================] - 243s 121ms/step - loss: 2.9257 - acc: 0.3339\n",
      "Epoch 1/1\n",
      "2000/2000 [==============================] - 243s 122ms/step - loss: 2.9108 - acc: 0.3362\n",
      "Epoch 1/1\n",
      "2000/2000 [==============================] - 243s 122ms/step - loss: 2.8923 - acc: 0.3383\n",
      "Epoch 1/1\n",
      "2000/2000 [==============================] - 244s 122ms/step - loss: 2.8749 - acc: 0.3401\n"
     ]
    }
   ],
   "source": [
    "'''for i in range(epochs):\n",
    "    generator = data_generator(train_desc, train_features, wordtoix, max_length, number_pics_per_bath)\n",
    "    model.fit_generator(generator, epochs=1, steps_per_epoch=steps, verbose=1)\n",
    "    #model.save('/content/drive/My Drive/major_project/full_vocab/model_2/model_' + str(i) + '.h5')'''"
   ]
  },
  {
   "cell_type": "code",
   "execution_count": 0,
   "metadata": {
    "colab": {},
    "colab_type": "code",
    "collapsed": true,
    "id": "GFKzSLSX9Kk_"
   },
   "outputs": [],
   "source": [
    "'''model.optimizer.lr = 0.0001\n",
    "epochs = 10\n",
    "number_pics_per_bath = 6\n",
    "steps = len(train_desc)//number_pics_per_bath'''"
   ]
  },
  {
   "cell_type": "code",
   "execution_count": 0,
   "metadata": {
    "colab": {
     "base_uri": "https://localhost:8080/",
     "height": 357
    },
    "colab_type": "code",
    "executionInfo": {
     "elapsed": 1348531,
     "status": "ok",
     "timestamp": 1554679949067,
     "user": {
      "displayName": "DILEEP MAURYA",
      "photoUrl": "",
      "userId": "05455579589554015869"
     },
     "user_tz": -330
    },
    "id": "A4ktIYDC9Llu",
    "outputId": "fe1f6b1a-0992-457a-c66c-3b4c22a85677"
   },
   "outputs": [
    {
     "name": "stdout",
     "output_type": "stream",
     "text": [
      "Epoch 1/1\n",
      "1000/1000 [==============================] - 135s 135ms/step - loss: 2.8859 - acc: 0.3398\n",
      "Epoch 1/1\n",
      "1000/1000 [==============================] - 135s 135ms/step - loss: 2.8587 - acc: 0.3431\n",
      "Epoch 1/1\n",
      "1000/1000 [==============================] - 135s 135ms/step - loss: 2.8442 - acc: 0.3441\n",
      "Epoch 1/1\n",
      "1000/1000 [==============================] - 135s 135ms/step - loss: 2.8272 - acc: 0.3462\n",
      "Epoch 1/1\n",
      "1000/1000 [==============================] - 135s 135ms/step - loss: 2.8133 - acc: 0.3478\n",
      "Epoch 1/1\n",
      "1000/1000 [==============================] - 136s 136ms/step - loss: 2.8018 - acc: 0.3498\n",
      "Epoch 1/1\n",
      "1000/1000 [==============================] - 135s 135ms/step - loss: 2.7904 - acc: 0.3503\n",
      "Epoch 1/1\n",
      "1000/1000 [==============================] - 133s 133ms/step - loss: 2.7771 - acc: 0.3525\n",
      "Epoch 1/1\n",
      "1000/1000 [==============================] - 134s 134ms/step - loss: 2.7658 - acc: 0.3532\n",
      "Epoch 1/1\n",
      "1000/1000 [==============================] - 134s 134ms/step - loss: 2.7537 - acc: 0.3546\n"
     ]
    }
   ],
   "source": [
    "'''for i in range(epochs):\n",
    "    generator = data_generator(train_desc, train_features, wordtoix, max_length, number_pics_per_bath)\n",
    "    model.fit_generator(generator, epochs=1, steps_per_epoch=steps, verbose=1)\n",
    "    #model.save('/content/drive/My Drive/major_project/full_vocab/model_3/model_' + str(i) + '.h5')'''"
   ]
  },
  {
   "cell_type": "code",
   "execution_count": 0,
   "metadata": {
    "colab": {
     "base_uri": "https://localhost:8080/",
     "height": 357
    },
    "colab_type": "code",
    "executionInfo": {
     "elapsed": 1334526,
     "status": "ok",
     "timestamp": 1554682166513,
     "user": {
      "displayName": "DILEEP MAURYA",
      "photoUrl": "",
      "userId": "05455579589554015869"
     },
     "user_tz": -330
    },
    "id": "9Pxwyyn79dqY",
    "outputId": "b9cb15c8-9259-408e-a58e-66a5116bde63"
   },
   "outputs": [
    {
     "name": "stdout",
     "output_type": "stream",
     "text": [
      "Epoch 1/1\n",
      "1000/1000 [==============================] - 134s 134ms/step - loss: 2.7412 - acc: 0.3566\n",
      "Epoch 1/1\n",
      "1000/1000 [==============================] - 133s 133ms/step - loss: 2.7314 - acc: 0.3573\n",
      "Epoch 1/1\n",
      "1000/1000 [==============================] - 133s 133ms/step - loss: 2.7221 - acc: 0.3583\n",
      "Epoch 1/1\n",
      "1000/1000 [==============================] - 133s 133ms/step - loss: 2.7159 - acc: 0.3601\n",
      "Epoch 1/1\n",
      "1000/1000 [==============================] - 132s 132ms/step - loss: 2.7053 - acc: 0.3599\n",
      "Epoch 1/1\n",
      "1000/1000 [==============================] - 134s 134ms/step - loss: 2.7004 - acc: 0.3615\n",
      "Epoch 1/1\n",
      "1000/1000 [==============================] - 133s 133ms/step - loss: 2.6893 - acc: 0.3629\n",
      "Epoch 1/1\n",
      "1000/1000 [==============================] - 134s 134ms/step - loss: 2.6823 - acc: 0.3635\n",
      "Epoch 1/1\n",
      "1000/1000 [==============================] - 133s 133ms/step - loss: 2.6755 - acc: 0.3637\n",
      "Epoch 1/1\n",
      "1000/1000 [==============================] - 134s 134ms/step - loss: 2.6622 - acc: 0.3659\n"
     ]
    }
   ],
   "source": [
    "'''for i in range(epochs):\n",
    "    generator = data_generator(train_desc, train_features, wordtoix, max_length, number_pics_per_bath)\n",
    "    model.fit_generator(generator, epochs=1, steps_per_epoch=steps, verbose=1)'''"
   ]
  },
  {
   "cell_type": "code",
   "execution_count": 0,
   "metadata": {
    "colab": {},
    "colab_type": "code",
    "collapsed": true,
    "id": "UZNEw8Oa9McI"
   },
   "outputs": [],
   "source": [
    "'''model.save_weights('/content/drive/My Drive/major_project/SGD_model/model_epoch_40.h5')'''"
   ]
  },
  {
   "cell_type": "code",
   "execution_count": 0,
   "metadata": {
    "colab": {
     "base_uri": "https://localhost:8080/",
     "height": 357
    },
    "colab_type": "code",
    "executionInfo": {
     "elapsed": 4006210,
     "status": "ok",
     "timestamp": 1554706149789,
     "user": {
      "displayName": "DILEEP MAURYA",
      "photoUrl": "",
      "userId": "05455579589554015869"
     },
     "user_tz": -330
    },
    "id": "tG48CwQjd57i",
    "outputId": "4a4d8faf-875b-476c-b8da-3a1b92dca5a2"
   },
   "outputs": [
    {
     "name": "stdout",
     "output_type": "stream",
     "text": [
      "Epoch 1/1\n",
      "3000/3000 [==============================] - 402s 134ms/step - loss: 2.6437 - acc: 0.3722\n",
      "Epoch 1/1\n",
      "3000/3000 [==============================] - 402s 134ms/step - loss: 2.6356 - acc: 0.3735\n",
      "Epoch 1/1\n",
      "3000/3000 [==============================] - 399s 133ms/step - loss: 2.6274 - acc: 0.3743\n",
      "Epoch 1/1\n",
      "3000/3000 [==============================] - 397s 132ms/step - loss: 2.6202 - acc: 0.3750\n",
      "Epoch 1/1\n",
      "3000/3000 [==============================] - 399s 133ms/step - loss: 2.6151 - acc: 0.3759\n",
      "Epoch 1/1\n",
      "3000/3000 [==============================] - 403s 134ms/step - loss: 2.6082 - acc: 0.3763\n",
      "Epoch 1/1\n",
      "3000/3000 [==============================] - 401s 134ms/step - loss: 2.6054 - acc: 0.3768\n",
      "Epoch 1/1\n",
      "3000/3000 [==============================] - 399s 133ms/step - loss: 2.6009 - acc: 0.3783\n",
      "Epoch 1/1\n",
      "3000/3000 [==============================] - 400s 133ms/step - loss: 2.5959 - acc: 0.3781\n",
      "Epoch 1/1\n",
      "3000/3000 [==============================] - 401s 134ms/step - loss: 2.5904 - acc: 0.3786\n"
     ]
    }
   ],
   "source": [
    "'''model.optimizer.lr = 0.0001\n",
    "epochs = 10\n",
    "number_pics_per_bath = 2\n",
    "steps = len(train_desc)//number_pics_per_bath\n",
    "for i in range(epochs):\n",
    "    generator = data_generator(train_desc, train_features, wordtoix, max_length, number_pics_per_bath)\n",
    "    model.fit_generator(generator, epochs=1, steps_per_epoch=steps, verbose=1)'''"
   ]
  },
  {
   "cell_type": "code",
   "execution_count": 0,
   "metadata": {
    "colab": {
     "base_uri": "https://localhost:8080/",
     "height": 34
    },
    "colab_type": "code",
    "executionInfo": {
     "elapsed": 1671,
     "status": "ok",
     "timestamp": 1554706669808,
     "user": {
      "displayName": "DILEEP MAURYA",
      "photoUrl": "",
      "userId": "05455579589554015869"
     },
     "user_tz": -330
    },
    "id": "v2nWzK1F9dbS",
    "outputId": "aea5cc8f-d069-488a-b398-918f98cd5596"
   },
   "outputs": [
    {
     "data": {
      "text/plain": [
       "'for i in range(epochs):\\n    generator = data_generator(train_desc, train_features, wordtoix, max_length, number_pics_per_bath)\\n    model.fit_generator(generator, epochs=1, steps_per_epoch=steps, verbose=1)'"
      ]
     },
     "execution_count": 26,
     "metadata": {
      "tags": []
     },
     "output_type": "execute_result"
    }
   ],
   "source": [
    "'''model.save_weights('/content/drive/My Drive/major_project/SGD_model/model_epoch_50.h5')\n",
    "for i in range(epochs):\n",
    "    generator = data_generator(train_desc, train_features, wordtoix, max_length, number_pics_per_bath)\n",
    "    model.fit_generator(generator, epochs=1, steps_per_epoch=steps, verbose=1)'''"
   ]
  },
  {
   "cell_type": "code",
   "execution_count": 0,
   "metadata": {
    "colab": {
     "base_uri": "https://localhost:8080/",
     "height": 408
    },
    "colab_type": "code",
    "executionInfo": {
     "elapsed": 1506847,
     "status": "ok",
     "timestamp": 1554701670038,
     "user": {
      "displayName": "DILEEP MAURYA",
      "photoUrl": "",
      "userId": "05455579589554015869"
     },
     "user_tz": -330
    },
    "id": "RvYy8eb6UrHu",
    "outputId": "a43340f0-4ecc-44d2-942f-76802df80c65"
   },
   "outputs": [
    {
     "name": "stdout",
     "output_type": "stream",
     "text": [
      "WARNING:tensorflow:From /usr/local/lib/python3.6/dist-packages/tensorflow/python/ops/math_ops.py:3066: to_int32 (from tensorflow.python.ops.math_ops) is deprecated and will be removed in a future version.\n",
      "Instructions for updating:\n",
      "Use tf.cast instead.\n",
      "Epoch 1/1\n",
      "1000/1000 [==============================] - 154s 154ms/step - loss: 2.8007 - acc: 0.3530\n",
      "Epoch 1/1\n",
      "1000/1000 [==============================] - 150s 150ms/step - loss: 2.7579 - acc: 0.3575\n",
      "Epoch 1/1\n",
      "1000/1000 [==============================] - 152s 152ms/step - loss: 2.7439 - acc: 0.3589\n",
      "Epoch 1/1\n",
      "1000/1000 [==============================] - 150s 150ms/step - loss: 2.7352 - acc: 0.3600\n",
      "Epoch 1/1\n",
      "1000/1000 [==============================] - 150s 150ms/step - loss: 2.7270 - acc: 0.3609\n",
      "Epoch 1/1\n",
      "1000/1000 [==============================] - 149s 149ms/step - loss: 2.7202 - acc: 0.3618\n",
      "Epoch 1/1\n",
      "1000/1000 [==============================] - 151s 151ms/step - loss: 2.7131 - acc: 0.3634\n",
      "Epoch 1/1\n",
      "1000/1000 [==============================] - 148s 148ms/step - loss: 2.7085 - acc: 0.3640\n",
      "Epoch 1/1\n",
      "1000/1000 [==============================] - 150s 150ms/step - loss: 2.7014 - acc: 0.3649\n",
      "Epoch 1/1\n",
      "1000/1000 [==============================] - 149s 149ms/step - loss: 2.6972 - acc: 0.3655\n"
     ]
    }
   ],
   "source": [
    "'''\n",
    "for i in range(epochs):\n",
    "    generator = data_generator(train_desc, train_features, wordtoix, max_length, number_pics_per_bath)\n",
    "    model.fit_generator(generator, epochs=1, steps_per_epoch=steps, verbose=1)'''"
   ]
  },
  {
   "cell_type": "code",
   "execution_count": 0,
   "metadata": {
    "colab": {},
    "colab_type": "code",
    "collapsed": true,
    "id": "wTTP2IhbduuH"
   },
   "outputs": [],
   "source": [
    "#model.save_weights('/content/drive/My Drive/major_project/SGD_model/model_epoch_50.h5')"
   ]
  },
  {
   "cell_type": "code",
   "execution_count": 0,
   "metadata": {
    "colab": {},
    "colab_type": "code",
    "collapsed": true,
    "id": "_rp4FDx89hEN"
   },
   "outputs": [],
   "source": [
    "#loading the model which is already trained upto 50 epoch\n",
    "model.load_weights('/adam_model/model_epoch_50.h5')\n",
    "#model = load_model('/content/drive/My Drive/major_project/full_vocab/model_5/model_40.h5')"
   ]
  },
  {
   "cell_type": "code",
   "execution_count": 0,
   "metadata": {
    "colab": {},
    "colab_type": "code",
    "collapsed": true,
    "id": "nkpZEmzx9gid"
   },
   "outputs": [],
   "source": [
    "images = '/Flicker8k_Dataset/'"
   ]
  },
  {
   "cell_type": "code",
   "execution_count": 0,
   "metadata": {
    "colab": {},
    "colab_type": "code",
    "collapsed": true,
    "id": "8NDvifYI9gZd"
   },
   "outputs": [],
   "source": [
    "#loading tesing data\n",
    "test_desc=np.load(\"/testing_data/test_desc.npy\",allow_pickle=True).item()\n",
    "test_features=np.load(\"/testing_data/test_features.npy\",allow_pickle=True).item()"
   ]
  },
  {
   "cell_type": "code",
   "execution_count": 0,
   "metadata": {
    "colab": {},
    "colab_type": "code",
    "collapsed": true,
    "id": "oEO3E87D9gOR"
   },
   "outputs": [],
   "source": [
    "#generate captioning\n",
    "def greedySearch(model,photo,max_length):\n",
    "    in_text = 'startseq'\n",
    "    for i in range(max_length):\n",
    "        sequence = [wordtoix[w] for w in in_text.split() if w in wordtoix]\n",
    "        sequence = pad_sequences([sequence], maxlen=max_length)\n",
    "        yhat = model.predict([photo,sequence], verbose=0)\n",
    "        yhat = np.argmax(yhat)\n",
    "        word = ixtoword[yhat]\n",
    "        in_text += ' ' + word\n",
    "        if word == 'endseq':\n",
    "            break\n",
    "    final = in_text.split()\n",
    "    final = final[1:-1]\n",
    "    final = ' '.join(final)\n",
    "    return final"
   ]
  },
  {
   "cell_type": "code",
   "execution_count": 57,
   "metadata": {
    "colab": {
     "base_uri": "https://localhost:8080/",
     "height": 320
    },
    "colab_type": "code",
    "executionInfo": {
     "elapsed": 1880,
     "status": "ok",
     "timestamp": 1556183939234,
     "user": {
      "displayName": "DILEEP MAURYA",
      "photoUrl": "",
      "userId": "05455579589554015869"
     },
     "user_tz": -330
    },
    "id": "DATuM8IJ9NCI",
    "outputId": "3fea5aac-c098-4a71-ec6d-a36d64eb12a7"
   },
   "outputs": [
    {
     "data": {
      "image/png": "[encoded data removed]",
      "text/plain": [
       "<Figure size 432x288 with 1 Axes>"
      ]
     },
     "metadata": {
      "tags": []
     },
     "output_type": "display_data"
    },
    {
     "name": "stdout",
     "output_type": "stream",
     "text": [
      "Generated Output: dog is running through the water\n",
      "Original Desc:  gray fuzzy dog running through snow \n",
      "picture_id-  3223224391_be50bf4f43\n"
     ]
    }
   ],
   "source": [
    "#full vocabulary with 50 epoch and adam\n",
    "pic = '3223224391_be50bf4f43'#'2788945468_74a9618cfa'#'2731171552_4a808c7d5a'#'2796801478_8ebd7e550b'\n",
    "image = test_features[pic]\n",
    "x=plt.imread(images+pic+'.jpg')\n",
    "plt.imshow(x)\n",
    "plt.show()\n",
    "print(\"Generated Output: \"+greedySearch(model,image,max_length))\n",
    "print(\"Original Desc: \"+ str(test_desc[pic][1][8:-6]))\n",
    "print(\"picture_id-  \"+str(pic))"
   ]
  },
  {
   "cell_type": "code",
   "execution_count": 0,
   "metadata": {
    "colab": {},
    "colab_type": "code",
    "collapsed": true,
    "id": "BHMUWivKvdmQ"
   },
   "outputs": [],
   "source": [
    "# evaluate the skill of the model\n",
    "def evaluate_model(model, descriptions, photos, tokenizer, max_length):\n",
    "\tactual, predicted = list(), list()\n",
    "\t# step over the whole set\n",
    "\tfor key, desc_list in descriptions.items():\n",
    "\t\t# generate description\n",
    "\t\tyhat = greedySearch(model,photos[key], max_length)\n",
    "\t\t# store actual and predicted\n",
    "\t\treferences = [d.split() for d in desc_list]\n",
    "\t\tactual.append(references)\n",
    "\t\tpredicted.append(yhat.split())\n",
    "\t# calculate BLEU score\n",
    "\tprint('BLEU-1: %f' % corpus_bleu(actual, predicted, weights=(1.0, 0, 0, 0)))\n",
    "\tprint('BLEU-2: %f' % corpus_bleu(actual, predicted, weights=(0.5, 0.5, 0, 0)))\n",
    "\tprint('BLEU-3: %f' % corpus_bleu(actual, predicted, weights=(0.3, 0.3, 0.3, 0)))\n",
    "\tprint('BLEU-4: %f' % corpus_bleu(actual, predicted, weights=(0.25, 0.25, 0.25, 0.25)))"
   ]
  },
  {
   "cell_type": "code",
   "execution_count": 0,
   "metadata": {
    "colab": {
     "base_uri": "https://localhost:8080/",
     "height": 85
    },
    "colab_type": "code",
    "executionInfo": {
     "elapsed": 161650,
     "status": "ok",
     "timestamp": 1556105323354,
     "user": {
      "displayName": "DILEEP MAURYA",
      "photoUrl": "",
      "userId": "05455579589554015869"
     },
     "user_tz": -330
    },
    "id": "hf2hvp1IRNe2",
    "outputId": "1bb3d14e-34f4-4ed5-a998-e9d2fd57974e"
   },
   "outputs": [
    {
     "name": "stdout",
     "output_type": "stream",
     "text": [
      "BLEU-1: 0.329903\n",
      "BLEU-2: 0.148406\n",
      "BLEU-3: 0.090901\n",
      "BLEU-4: 0.031000\n"
     ]
    }
   ],
   "source": [
    "def create_tokenizer(descriptions):\n",
    "\tlines = to_lines(descriptions)\n",
    "\ttokenizer = Tokenizer()\n",
    "\ttokenizer.fit_on_texts(lines)\n",
    "\treturn tokenizer\n",
    "tokenizer=create_tokenizer(test_desc)\n",
    "evaluate_model(model,test_desc,test_features,tokenizer,max_length)\n"
   ]
  },
  {
   "cell_type": "code",
   "execution_count": 64,
   "metadata": {
    "colab": {
     "base_uri": "https://localhost:8080/",
     "height": 303
    },
    "colab_type": "code",
    "executionInfo": {
     "elapsed": 83259,
     "status": "ok",
     "timestamp": 1556184606695,
     "user": {
      "displayName": "DILEEP MAURYA",
      "photoUrl": "",
      "userId": "05455579589554015869"
     },
     "user_tz": -330
    },
    "id": "_wrV0hcPRa4-",
    "outputId": "e8187b5c-a85e-4c73-8e34-49dd9a816072",
    "scrolled": true
   },
   "outputs": [
    {
     "data": {
      "image/png": "[encoded data removed]",
      "text/plain": [
       "<Figure size 432x288 with 1 Axes>"
      ]
     },
     "metadata": {
      "tags": []
     },
     "output_type": "display_data"
    },
    {
     "name": "stdout",
     "output_type": "stream",
     "text": [
      "Generated Desc for random pic: man in red shirt is standing on top of mountain\n",
      "picture_id-  3223224391_be50bf4f43\n"
     ]
    }
   ],
   "source": [
    "#Random picture output\n",
    "image=extract_feature('/content/drive/My Drive/15IT208_15IT101_15IT107_15IT246_major_project/IMG_20190115_150636.jpg')\n",
    "x=plt.imread('/content/drive/My Drive/15IT208_15IT101_15IT107_15IT246_major_project/IMG_20190115_150636.jpg')\n",
    "plt.imshow(x)\n",
    "plt.show()\n",
    "print(\"Generated Desc for random pic: \"+greedySearch(model,image,max_length))\n",
    "print(\"picture_id-  \"+str(pic))"
   ]
  },
  {
   "cell_type": "code",
   "execution_count": null,
   "metadata": {
    "collapsed": true
   },
   "outputs": [],
   "source": []
  },
  {
   "cell_type": "code",
   "execution_count": null,
   "metadata": {
    "collapsed": true
   },
   "outputs": [],
   "source": []
  }
 ],
 "metadata": {
  "accelerator": "GPU",
  "colab": {
   "name": "image_captioning.ipynb",
   "provenance": [],
   "version": "0.3.2"
  },
  "kernelspec": {
   "display_name": "Python 3",
   "language": "python",
   "name": "python3"
  },
  "language_info": {
   "codemirror_mode": {
    "name": "ipython",
    "version": 3
   },
   "file_extension": ".py",
   "mimetype": "text/x-python",
   "name": "python",
   "nbconvert_exporter": "python",
   "pygments_lexer": "ipython3",
   "version": "3.6.3"
  }
 },
 "nbformat": 4,
 "nbformat_minor": 1
}
